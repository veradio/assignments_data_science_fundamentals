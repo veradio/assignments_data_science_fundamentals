{
 "cells": [
  {
   "cell_type": "code",
   "execution_count": 2,
   "metadata": {},
   "outputs": [],
   "source": [
    "#Import the requests module and the display, Image and HTML functions from the IPython.display module\n",
    "\n",
    "import requests\n",
    "import json\n",
    "from IPython.display import display, Image\n",
    "from IPython.display import display, HTML\n",
    "#fill in article\n",
    "#Ask for the article you want to lookup on Wikipedia. \n",
    "article = input(\"Which article are you looking for? Fill in: \").strip()"
   ]
  },
  {
   "cell_type": "code",
   "execution_count": 3,
   "metadata": {},
   "outputs": [
    {
     "name": "stdout",
     "output_type": "stream",
     "text": [
      "for English type EN\n",
      "for Dutch type NL\n",
      "for French type FR\n",
      "for German type DE\n"
     ]
    }
   ],
   "source": [
    "#Also ask which language you want to do query\n",
    "\n",
    "print (\"for English type EN\")\n",
    "print (\"for Dutch type NL\")\n",
    "print (\"for French type FR\")\n",
    "print (\"for German type DE\")\n",
    "\n",
    "language = input(\"Choose your language\").strip().lower()"
   ]
  },
  {
   "cell_type": "code",
   "execution_count": 4,
   "metadata": {},
   "outputs": [
    {
     "name": "stdout",
     "output_type": "stream",
     "text": [
      "https://nl.wikipedia.org/api/rest_v1/page/summary/Amsterdam\n"
     ]
    }
   ],
   "source": [
    "#Create url based on language and article\n",
    "url = f\"https://{language}.wikipedia.org/api/rest_v1/page/summary/{article}\"\n",
    "r = requests.get(url)\n",
    "print (url)"
   ]
  },
  {
   "cell_type": "code",
   "execution_count": 5,
   "metadata": {},
   "outputs": [
    {
     "name": "stdout",
     "output_type": "stream",
     "text": [
      "Query Succesfull\n"
     ]
    }
   ],
   "source": [
    "#Check if request gave 200 HTTP status code, else try again till succesfull\n",
    "query = False \n",
    "while query == False:\n",
    "    if r.status_code == 200:\n",
    "        print (\"Query Succesfull\")\n",
    "        query = True\n",
    "    else:\n",
    "        print (\"An error occurred please try again\")\n",
    "        article = input(\"Which article are you looking for? Fill in: \").strip()\n",
    "        url = f\"https://{language}.wikipedia.org/api/rest_v1/page/summary/{article}\"\n",
    "        r = requests.get(url)\n",
    "        query = False  "
   ]
  },
  {
   "cell_type": "code",
   "execution_count": 6,
   "metadata": {},
   "outputs": [
    {
     "name": "stdout",
     "output_type": "stream",
     "text": [
      "Page title: Amsterdam\n",
      "Page description: hoofdstad en grootste stad van Nederland\n"
     ]
    }
   ],
   "source": [
    "#Convert the JSON data the API returns to a Python dict\n",
    "data = json.loads(r.text)\n",
    "\n",
    "#Print the returned title and description from the API request\n",
    "if \"title\" in data:\n",
    "    title = data[\"title\"]\n",
    "    print(\"Page title: \" + title)\n",
    "if \"description\" in data:\n",
    "    description = data [\"description\"]\n",
    "    print(\"Page description: \" + description)"
   ]
  },
  {
   "cell_type": "code",
   "execution_count": 7,
   "metadata": {},
   "outputs": [
    {
     "data": {
      "text/html": [
       "<img src=\"https://upload.wikimedia.org/wikipedia/commons/thumb/6/6d/Flag_of_Amsterdam.svg/320px-Flag_of_Amsterdam.svg.png\"/>"
      ],
      "text/plain": [
       "<IPython.core.display.Image object>"
      ]
     },
     "metadata": {},
     "output_type": "display_data"
    }
   ],
   "source": [
    "#Check if there’s a thumbnail, and if so, extract the thumbnail source, \n",
    "#the html extract and use the Image, HTML and display function to show those in the Jupyter Notebook. \n",
    "#If there’s no thumbnail, print an error message.\n",
    "\n",
    "if \"thumbnail\" in data:\n",
    "    thumbnail = data [\"thumbnail\"]\n",
    "    if \"source\" in thumbnail:\n",
    "        source = thumbnail[\"source\"]\n",
    "    thumb = Image(url=source)\n",
    "    display (thumb)\n",
    "else:\n",
    "    print (\"error\")\n",
    "\n"
   ]
  },
  {
   "cell_type": "code",
   "execution_count": 9,
   "metadata": {},
   "outputs": [
    {
     "data": {
      "text/html": [
       "'<a href=http://maps.google.com/?q=52.36666667,4.9> Show Amsterdam on Google Maps </a>'"
      ],
      "text/plain": [
       "<IPython.core.display.HTML object>"
      ]
     },
     "metadata": {},
     "output_type": "display_data"
    }
   ],
   "source": [
    "#coordinates of wikipage\n",
    "#Check if there’s a coordinate in the page, and if so, extract the ‘lat’ and ‘lon’ properties. \n",
    "#Add those to the Google Maps website \n",
    "\n",
    "if \"coordinates\" in data:\n",
    "    coordinates = data [\"coordinates\"]\n",
    "    if \"lat\" in coordinates:\n",
    "        lat = coordinates[\"lat\"]\n",
    "    if \"lon\" in coordinates:\n",
    "        lon = coordinates [\"lon\"]\n",
    "    map_url = f\"'<a href=http://maps.google.com/?q={lat},{lon}> Show {title} on Google Maps </a>'\"\n",
    "    html = HTML(map_url)\n",
    "    display(html) #create clickable link\n",
    "else:\n",
    "    print (\"error\")"
   ]
  },
  {
   "cell_type": "code",
   "execution_count": 10,
   "metadata": {},
   "outputs": [
    {
     "name": "stdout",
     "output_type": "stream",
     "text": [
      "Query Succesfull\n"
     ]
    }
   ],
   "source": [
    "url_related = f\"https://{language}.wikipedia.org/api/rest_v1/page/related/{article}\"\n",
    "rr = requests.get(url_related)\n",
    "\n",
    "if rr.status_code == 200:\n",
    "    print (\"Query Succesfull\")\n",
    "else:\n",
    "    print (\"An error occurred\")\n"
   ]
  },
  {
   "cell_type": "code",
   "execution_count": 11,
   "metadata": {},
   "outputs": [
    {
     "name": "stdout",
     "output_type": "stream",
     "text": [
      "Amstel_(rivier)\n",
      "IJ_(rivier)\n",
      "Rietlanden_(Amsterdam)\n",
      "Amsterdam-Noord\n",
      "Geschiedenis_van_Amsterdam\n",
      "Nieuwer-Amstel\n",
      "Buitenveldert\n",
      "Binnenstad_(Amsterdam)\n",
      "Transvaalbuurt_(Amsterdam)\n",
      "Grachtengordel_(Amsterdam)\n",
      "Oudezijde\n",
      "Nieuwezijde\n",
      "Bullewijk_(Amsterdam)\n",
      "Holendrecht_(Amsterdam)\n",
      "Volewijck\n",
      "Amstel_III\n",
      "Buiksloterham\n",
      "Monumenten_en_Archeologie_(Amsterdam)\n",
      "IJ-oevers\n",
      "Weesperbuurt\n"
     ]
    }
   ],
   "source": [
    "#Query the Wikipedia related API for articles related to the original article \n",
    "\n",
    "data_related = json.loads(rr.text)\n",
    "\n",
    "if \"pages\" in data_related:\n",
    "    pages = data_related[\"pages\"]\n",
    "    for page_related in pages:\n",
    "        if \"title\" in page_related:\n",
    "            title_related = page_related[\"title\"]\n",
    "            print (title_related)"
   ]
  },
  {
   "cell_type": "code",
   "execution_count": 12,
   "metadata": {},
   "outputs": [
    {
     "name": "stdout",
     "output_type": "stream",
     "text": [
      "Amstel_(rivier)\n",
      "rivier\n"
     ]
    },
    {
     "data": {
      "text/html": [
       "<a href=https://nl.wikipedia.org/wiki/Amstel_(rivier)> Go the wiki of Amstel_(rivier)</a> "
      ],
      "text/plain": [
       "<IPython.core.display.HTML object>"
      ]
     },
     "metadata": {},
     "output_type": "display_data"
    },
    {
     "name": "stdout",
     "output_type": "stream",
     "text": [
      "IJ_(rivier)\n",
      "meer, voorheen een zeearm, in Amsterdam\n"
     ]
    },
    {
     "data": {
      "text/html": [
       "<a href=https://nl.wikipedia.org/wiki/IJ_(rivier)> Go the wiki of IJ_(rivier)</a> "
      ],
      "text/plain": [
       "<IPython.core.display.HTML object>"
      ]
     },
     "metadata": {},
     "output_type": "display_data"
    },
    {
     "name": "stdout",
     "output_type": "stream",
     "text": [
      "Rietlanden_(Amsterdam)\n",
      "buurt in Amsterdam\n"
     ]
    },
    {
     "data": {
      "text/html": [
       "<a href=https://nl.wikipedia.org/wiki/Rietlanden_(Amsterdam)> Go the wiki of Rietlanden_(Amsterdam)</a> "
      ],
      "text/plain": [
       "<IPython.core.display.HTML object>"
      ]
     },
     "metadata": {},
     "output_type": "display_data"
    }
   ],
   "source": [
    "#Create a new list and from the first three related results append a dict with the title, \n",
    "#description and url to the desktop version of the related article to that list.\n",
    "\n",
    "\n",
    "for page_related in pages [0:3]:\n",
    "    if \"title\" in page_related:\n",
    "        title_related = page_related[\"title\"]\n",
    "        print (title_related)\n",
    "    if \"description\" in page_related:\n",
    "        description_related= page_related[\"description\"]\n",
    "        print(description_related)\n",
    "    if \"content_urls\" in page_related:\n",
    "        content_urls = page_related[\"content_urls\"]\n",
    "        if \"desktop\" in content_urls:\n",
    "            desktop = content_urls[\"desktop\"]\n",
    "            if \"page\" in desktop:\n",
    "                redirect = desktop[\"page\"]\n",
    "                url_redirect = f\"<a href={redirect}> Go the wiki of {title_related}</a> \"\n",
    "                url_go = HTML(url_redirect)\n",
    "                display(url_go)\n",
    "                \n",
    "    \n",
    "#Loop through the newly created list and print every item using a nicely formatted string \n",
    "\n"
   ]
  }
 ],
 "metadata": {
  "kernelspec": {
   "display_name": "Python 3",
   "language": "python",
   "name": "python3"
  },
  "language_info": {
   "codemirror_mode": {
    "name": "ipython",
    "version": 3
   },
   "file_extension": ".py",
   "mimetype": "text/x-python",
   "name": "python",
   "nbconvert_exporter": "python",
   "pygments_lexer": "ipython3",
   "version": "3.6.5"
  }
 },
 "nbformat": 4,
 "nbformat_minor": 2
}
